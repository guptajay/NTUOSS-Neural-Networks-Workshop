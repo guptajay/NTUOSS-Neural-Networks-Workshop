{
  "nbformat": 4,
  "nbformat_minor": 0,
  "metadata": {
    "colab": {
      "name": "NTUOSS-NeuralNetworks.ipynb",
      "provenance": [],
      "collapsed_sections": []
    },
    "kernelspec": {
      "name": "python3",
      "display_name": "Python 3"
    }
  },
  "cells": [
    {
      "cell_type": "markdown",
      "metadata": {
        "id": "TmfdKrSiP5Bj"
      },
      "source": [
        "# NTUOSS - Introduction to Neural Networks\n",
        "\n",
        "by [Jay Gupta](https://github.com/guptajay) for [NTU Open Source Society](https://ntuoss.com/home)\n",
        "\n",
        "## Workshop Details:\n",
        "**Time**: Friday, 15 January 2021. 6:30pm - 8:30pm  \n",
        "**Location**: Microsoft Teams (due to COVID-19 measures)  \n",
        "**Organizer**: NTU Open Source Society"
      ]
    },
    {
      "cell_type": "markdown",
      "metadata": {
        "id": "fzYTThtzSNLI"
      },
      "source": [
        "## Building the Model\n",
        "\n",
        "**Model Architecture:** Dense Layer (10 units) --> Dense Layer (8 units) --> Softmax Output (3 units)"
      ]
    },
    {
      "cell_type": "code",
      "metadata": {
        "id": "_zBEhEYISD2z"
      },
      "source": [
        "from tensorflow.keras.layers import Dense\n",
        "from tensorflow.keras.models import Model, Sequential\n",
        "\n",
        "def IrisClassifier():\n",
        "    \"\"\"\n",
        "    Implementation of our Iris Classifier.\n",
        "    Architecture: FullyConnected --> FullyConnected --> Softmax \n",
        "\n",
        "    Arguments:\n",
        "    input_shape -- number of features of Iris\n",
        "    classes -- integer, number of classes\n",
        "\n",
        "    Returns:\n",
        "    model -- a Model() instance in Keras\n",
        "    \"\"\"\n",
        "    \n",
        "    model = Sequential([\n",
        "      \n",
        "    # Layer 1\n",
        "    Dense(units = 10, input_shape = (4,), activation = 'relu', name = 'fully_connected_1'),\n",
        "        \n",
        "    # Layer 2\n",
        "    Dense(units = 8, activation = 'relu', name = 'fully_connected_2'),\n",
        "    \n",
        "    # Output\n",
        "    Dense(units = 3, activation = 'softmax', name = 'output')\n",
        "    \n",
        "    ])\n",
        "    \n",
        "    model._name = 'IrisClassifier'\n",
        "\n",
        "    return model"
      ],
      "execution_count": null,
      "outputs": []
    },
    {
      "cell_type": "code",
      "metadata": {
        "id": "pYi_6UI6SUYY"
      },
      "source": [
        "IrisClassifierModel = IrisClassifier()"
      ],
      "execution_count": null,
      "outputs": []
    },
    {
      "cell_type": "code",
      "metadata": {
        "id": "CEJn8UA1SdsA"
      },
      "source": [
        "IrisClassifierModel.compile(optimizer='adam', loss='categorical_crossentropy', metrics=['accuracy'])"
      ],
      "execution_count": null,
      "outputs": []
    },
    {
      "cell_type": "code",
      "metadata": {
        "id": "4cKl6ldjSkdL"
      },
      "source": [
        "IrisClassifierModel.summary()"
      ],
      "execution_count": null,
      "outputs": []
    },
    {
      "cell_type": "markdown",
      "metadata": {
        "id": "qHhJv-dOSsq5"
      },
      "source": [
        "## Data Exploration"
      ]
    },
    {
      "cell_type": "code",
      "metadata": {
        "id": "4CvpWqTESva8"
      },
      "source": [
        "from sklearn.datasets import load_iris\n",
        "\n",
        "iris = load_iris()\n",
        "print(iris.DESCR)\n",
        "\n",
        "X = iris['data']\n",
        "y = iris['target']"
      ],
      "execution_count": null,
      "outputs": []
    },
    {
      "cell_type": "code",
      "metadata": {
        "id": "XjgdEkIvSwnx"
      },
      "source": [
        "#  - sepal length in cm\n",
        "#  - sepal width in cm\n",
        "#  - petal length in cm\n",
        "#  - petal width in cm\n",
        "print('Example data: ')\n",
        "print(iris.data[:5])\n",
        "\n",
        "print()\n",
        "\n",
        "#  - class:\n",
        "#     - Iris-Setosa\n",
        "#     - Iris-Versicolour\n",
        "#     - Iris-Virginica\n",
        "print('Example labels: ')\n",
        "print(iris.target[:5])"
      ],
      "execution_count": null,
      "outputs": []
    },
    {
      "cell_type": "markdown",
      "metadata": {
        "id": "YA0Kx-F-lcMG"
      },
      "source": [
        "## Data Preprocessing"
      ]
    },
    {
      "cell_type": "code",
      "metadata": {
        "id": "NvTdlmLOUixS"
      },
      "source": [
        "from sklearn.preprocessing import OneHotEncoder, StandardScaler\n",
        "import numpy as np\n",
        "\n",
        "# One hot encoding\n",
        "enc = OneHotEncoder()\n",
        "Y = enc.fit_transform(y[:, np.newaxis]).toarray()\n",
        "\n",
        "# Scale data to have mean 0 and variance 1 \n",
        "scaler = StandardScaler()\n",
        "X_scaled = scaler.fit_transform(X)"
      ],
      "execution_count": null,
      "outputs": []
    },
    {
      "cell_type": "code",
      "metadata": {
        "id": "fp0W6TQGXWC3"
      },
      "source": [
        "from sklearn.model_selection import train_test_split\n",
        "\n",
        "# Split the data set into training and testing\n",
        "X_train, X_test, Y_train, Y_test = train_test_split(X_scaled, Y, test_size=0.2, random_state=2)"
      ],
      "execution_count": null,
      "outputs": []
    },
    {
      "cell_type": "markdown",
      "metadata": {
        "id": "l5dIaozylkbn"
      },
      "source": [
        "## Training the Model"
      ]
    },
    {
      "cell_type": "code",
      "metadata": {
        "id": "fAnNOjYzclvH"
      },
      "source": [
        "history = IrisClassifierModel.fit(X_train, Y_train, epochs = 200, batch_size = 5)"
      ],
      "execution_count": null,
      "outputs": []
    },
    {
      "cell_type": "markdown",
      "metadata": {
        "id": "IKdepk0gltcH"
      },
      "source": [
        "## Evaluating the Model"
      ]
    },
    {
      "cell_type": "code",
      "metadata": {
        "id": "DzCzEdE2fOP5"
      },
      "source": [
        "results = IrisClassifierModel.evaluate(X_test, Y_test)\n",
        "\n",
        "print('Final test set loss: {:4f}'.format(results[0]))\n",
        "print('Final test set accuracy: {:4f}'.format(results[1]))"
      ],
      "execution_count": null,
      "outputs": []
    },
    {
      "cell_type": "markdown",
      "metadata": {
        "id": "S66QoOWrlqIo"
      },
      "source": [
        "## Inference"
      ]
    },
    {
      "cell_type": "code",
      "metadata": {
        "id": "k4_43P0fgONd"
      },
      "source": [
        "y_pred = IrisClassifierModel.predict(X_test, verbose=0)\n",
        "print(y_pred[:5])\n",
        "print(Y_test[:5])"
      ],
      "execution_count": null,
      "outputs": []
    }
  ]
}